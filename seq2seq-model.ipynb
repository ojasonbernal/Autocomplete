{
  "nbformat": 4,
  "nbformat_minor": 0,
  "metadata": {
    "colab": {
      "name": "seq2seq.ipynb",
      "provenance": [],
      "collapsed_sections": []
    },
    "kernelspec": {
      "name": "python3",
      "display_name": "Python 3"
    },
    "language_info": {
      "name": "python"
    },
    "accelerator": "GPU"
  },
  "cells": [
    {
      "cell_type": "markdown",
      "source": [
        "# Sequence-to-Sequence Model using LSTM Neural Network and Keras"
      ],
      "metadata": {
        "id": "LVDdBYAK_Ai2"
      }
    },
    {
      "cell_type": "markdown",
      "source": [
        "### Preprocessing"
      ],
      "metadata": {
        "id": "wkyx6Co49kIe"
      }
    },
    {
      "cell_type": "markdown",
      "source": [
        "Let us create a very simple seq2seq model. I will start by preprocessing the data. Upon reviewing the data, I want to extract the most important characters in the dataset. I will currently only use English alphabet characters and spaces since I find those the most interpretable.\n"
      ],
      "metadata": {
        "id": "HoKxgo_X9wQ4"
      }
    },
    {
      "cell_type": "code",
      "source": [
        "# Open and reads from file\n",
        "def read_file(file_name):\n",
        "    \"\"\"\n",
        "    Input:\n",
        "        string\n",
        "    Output:\n",
        "        string\n",
        "    Method opens and reads a given file. Return is processed line with all types of characters\"\"\"\n",
        "    file = open(file_name, encoding=\"utf8\")  # opening the file\n",
        "    i = 0  # counter\n",
        "    complete_string = ''\n",
        "\n",
        "    for line in file.readlines():  # Reading line by line in the file\n",
        "        \n",
        "        if(i == 50000):  # Reading only the first 1000 lines\n",
        "            break\n",
        "        # Combine the line into one big string and then later process the line to only include alphanumeric and spaces characters.\n",
        "        complete_string += read_lines(line)\n",
        "        \n",
        "        i += 1\n",
        "        \n",
        "        \n",
        "    file.close()\n",
        "    return complete_string\n"
      ],
      "metadata": {
        "id": "jyZZ-gu89uji"
      },
      "execution_count": 15,
      "outputs": []
    },
    {
      "cell_type": "code",
      "source": [
        "def read_lines(line):\n",
        "    \"\"\"\n",
        "    Input:\n",
        "        string\n",
        "    Output:\n",
        "        string \n",
        "    This method reads lines and preprocesses them\n",
        "    \"\"\"\n",
        "    line = line.lower().strip()\n",
        "    # Find a line that is an english sentence. \n",
        "    # Let us assume, lines where the first character are alpha are english sentences.\n",
        "    # Return such lines.\n",
        "    try:\n",
        "        if(line[0].isalpha()):\n",
        "            return line + \" \"  # Added space to separate lines\n",
        "        else:\n",
        "            return ''\n",
        "\n",
        "    except:  # All other non english sentences are filtered out\n",
        "        return ''"
      ],
      "metadata": {
        "id": "bOE-78Da936t"
      },
      "execution_count": 16,
      "outputs": []
    },
    {
      "cell_type": "code",
      "source": [
        "def process_string(line):\n",
        "    \"\"\"\n",
        "    Input:\n",
        "        string\n",
        "    Output:\n",
        "        string\n",
        "    Process string to only include alphanumeric and spaces.\n",
        "    \"\"\"\n",
        "    processed_string = ''\n",
        "    for char in line:  # for every character in the line string\n",
        "        if char.isalpha() or char == \" \":  # If character is alphanumeric and spaces\n",
        "            processed_string += char\n",
        "        \n",
        "        # else all other characters are not included in final string\n",
        "    \n",
        "    return processed_string"
      ],
      "metadata": {
        "id": "zB59Pf0t94MI"
      },
      "execution_count": 17,
      "outputs": []
    },
    {
      "cell_type": "code",
      "source": [
        "import csv  # https://www.pythontutorial.net/python-basics/python-write-csv-file/\n",
        "\n",
        "def store_chars(processed_info):\n",
        "    \"\"\"\n",
        "    Input:\n",
        "        string\n",
        "    Will write a file to store the 30 chars and 10 chars combinations for model use.\n",
        "    \"\"\"\n",
        "    \n",
        "    # Need to create a pointer to get 30 and 10 combinations\n",
        "    i = 0\n",
        "    \n",
        "    f = open(\"charInfo.csv\", \"w\", encoding=\"utf8\", newline=\"\")  # Opening a new file to store relevant characters\n",
        "    writer = csv.writer(f)  # csv writer\n",
        "    \n",
        "    length_string = len(processed_info)\n",
        "    number_of_combinations = length_string // 40  # Floored division to capture the number of iterations possible\n",
        "    for iteration in range(number_of_combinations):\n",
        "        first_30 = processed_info[i:i+30]        \n",
        "        first_10 = processed_info[i+30:i+40]\n",
        "        writer.writerow([first_30, first_10])\n",
        "        \n",
        "        i += 40\n",
        "    \n",
        "    f.close()\n",
        "#     return number_of_combinations"
      ],
      "metadata": {
        "id": "PR53ssv-94cq"
      },
      "execution_count": 18,
      "outputs": []
    },
    {
      "cell_type": "code",
      "source": [
        "import numpy as np\n",
        "import tensorflow as tf\n",
        "from tensorflow import keras\n",
        "\n",
        "\n",
        "def preprocess_data():\n",
        "    # Steps:\n",
        "    # 1. Read the file\n",
        "    # 2. Process the data\n",
        "    # 3. Store valuable data\n",
        "    # 4. Create model\n",
        "    # 5. Train model\n",
        "    # 6. Validate results\n",
        "    \"\"\"This method does not pass in any arguements but calls all of \n",
        "    the previous methods to preproccess the file\n",
        "    \"\"\"\n",
        "    preprocessed_string = read_file(\"enwik8\")  # Preprocessed string\n",
        "    processed_string = process_string(preprocessed_string)  # Reading 1000 lines and processing the string\n",
        "    \n",
        "    # Storing the data in a data structure will be computationally expensive thus I will store the characters in a csv file\n",
        "    # Will look like:\n",
        "    # 30 chars, 10 chars\n",
        "    store_chars(processed_string)\n",
        "\n",
        "\n",
        "    # https://docs.python.org/2/library/csv.html#examples\n",
        "    # Printing out 5 rows in csv for viewing\n",
        "    with open(\"charInfo.csv\", 'r') as f:\n",
        "      print(\"Viewing first 5 rows of csv file\")\n",
        "      reader = csv.reader(f)\n",
        "      i = 0 \n",
        "      for row in reader:\n",
        "        if(i == 5):\n",
        "          break\n",
        "        print(row)\n",
        "        i += 1\n",
        "\n",
        "        \n",
        "preprocess_data()"
      ],
      "metadata": {
        "id": "Uc6AHmUx95A5",
        "colab": {
          "base_uri": "https://localhost:8080/"
        },
        "outputId": "e68a9df5-0eb9-44c1-8b96-9e58e30b399d"
      },
      "execution_count": 19,
      "outputs": [
        {
          "output_type": "stream",
          "name": "stdout",
          "text": [
            "Viewing first 5 rows of csv file\n",
            "['the word anarchism is etymolog', 'yderived f']\n",
            "['rom the greek languagegreek wi', 'ktionaryam']\n",
            "['pampampampampampampampampampam', 'pampampamp']\n",
            "[' quotwithout archons ruler chi', 'ef kingquo']\n",
            "['t anarchism as a political phi', 'losophy is']\n"
          ]
        }
      ]
    },
    {
      "cell_type": "markdown",
      "source": [
        "### One-hot vectorizarion of input and output sequences"
      ],
      "metadata": {
        "id": "UtsOZpRDcGD0"
      }
    },
    {
      "cell_type": "code",
      "source": [
        "# Sources:\n",
        "# https://pythonspot.com/reading-csv-files-in-python/#:~:text=CSV%20Files%20can%20be%20read%20by%20the%20Pandas,manager.%20Panda%E2%80%99s%20read_csv%20function%20can%20read%20multiple%20columns\n",
        "# https://colab.research.google.com/github/keras-team/keras-io/blob/master/examples/nlp/ipynb/lstm_seq2seq.ipynb#scrollTo=GseD3b1jWYXr\n",
        "# https://towardsdatascience.com/how-to-implement-seq2seq-lstm-model-in-keras-shortcutnlp-6f355f3e5639\n",
        "\n",
        "# Store input, output sequences \n",
        "input_characters = list()\n",
        "output_characters = list()\n",
        "\n",
        "# Opening csv to gather data\n",
        "f = open(\"charInfo.csv\", \"r\", encoding=\"utf8\")\n",
        "csvReader = csv.reader(f, delimiter=',')\n",
        "for line in csvReader:  # Go through every line in the csv file\n",
        "    input_char, output_char = line  # sequences of chars are strings\n",
        "    # tab will be sos, newline will be eos\n",
        "    output_char = '\\t' + output_char + '\\n'\n",
        "    input_characters.append(input_char)\n",
        "    output_characters.append(output_char)\n",
        "\n",
        "f.close()\n",
        "\n",
        "# Unique input characters\n",
        "unique_input_characters = set()\n",
        "for seq1 in input_characters:\n",
        "  for char in seq1:\n",
        "    if char not in unique_input_characters:\n",
        "        unique_input_characters.add(char)\n",
        "\n",
        "# Getting the number of encoder tokens\n",
        "unique_input_characters = sorted(list(unique_input_characters))\n",
        "num_encoder_tokens = len(unique_input_characters)\n",
        "\n",
        "# Unique output characters\n",
        "unique_output_characters = set()\n",
        "for seq2 in output_characters:\n",
        "  for char in seq2:\n",
        "    if char not in unique_output_characters:\n",
        "        unique_output_characters.add(char)\n",
        "\n",
        "# Getting the number of decoder tokens\n",
        "unique_output_characters = sorted(list(unique_output_characters))\n",
        "num_decoder_tokens = len(unique_output_characters)\n",
        "\n",
        "# Max length of input and output sequences\n",
        "max_encoder_seq = 30\n",
        "max_decoder_seq = 30\n",
        "num_combinations = len(input_characters)  # Number of samples\n",
        "\n",
        "\n",
        "print(\"Number of 30 10 combinations:\", len(input_characters))\n",
        "print(\"Unique input tokens:\", num_encoder_tokens)\n",
        "print(\"Unique output tokens:\", num_decoder_tokens)\n",
        "print(\"Max input sequence length:\", max_encoder_seq)\n",
        "print(\"Max output sequence length:\", max_decoder_seq)\n"
      ],
      "metadata": {
        "id": "tONfxQoC9-3y",
        "colab": {
          "base_uri": "https://localhost:8080/"
        },
        "outputId": "9a27269d-2b1b-4bd7-8f0b-97965a7b28c5"
      },
      "execution_count": 20,
      "outputs": [
        {
          "output_type": "stream",
          "name": "stdout",
          "text": [
            "Number of 30 10 combinations: 56268\n",
            "Unique input tokens: 239\n",
            "Unique output tokens: 139\n",
            "Max input sequence length: 30\n",
            "Max output sequence length: 30\n"
          ]
        }
      ]
    },
    {
      "cell_type": "markdown",
      "source": [
        "#### Manual Method to Encode Input and Output Sequences"
      ],
      "metadata": {
        "id": "EWr9sp67m-bH"
      }
    },
    {
      "cell_type": "code",
      "source": [
        "# Sources:\n",
        "# https://numpy.org/doc/stable/reference/generated/numpy.zeros.html\n",
        "# https://www.programiz.com/python-programming/methods/built-in/zip\n",
        "# https://colab.research.google.com/github/keras-team/keras-io/blob/master/examples/nlp/ipynb/lstm_seq2seq.ipynb#scrollTo=GseD3b1jWYXr\n",
        "\n",
        "# Enumerating the input and output tokens\n",
        "input_token_index = dict([(char, i) for i, char in enumerate(unique_input_characters)])\n",
        "output_token_index = dict([(char, i) for i, char in enumerate(unique_output_characters)])\n",
        "\n",
        "# Input and Output sequences in numpy array format\n",
        "encoder_input_seq = np.zeros((len(input_characters), max_encoder_seq, num_encoder_tokens), dtype=\"float32\")\n",
        "decoder_input_seq = np.zeros((len(input_characters), max_decoder_seq, num_decoder_tokens), dtype=\"float32\")\n",
        "decoder_output_seq = np.zeros((len(input_characters), max_decoder_seq, num_decoder_tokens), dtype=\"float32\")\n",
        "  \n",
        "# Combining input and output sequences using zip()\n",
        "# Enumerating it so that I have access to its index\n",
        "# Encode input sequence\n",
        "for row, (in_seq, out_seq) in enumerate(zip(input_characters, output_characters)):\n",
        "    for col, char in enumerate(in_seq):\n",
        "        encoder_input_seq[row, col, input_token_index[char]] = 1\n",
        "    encoder_input_seq[row, col + 1 :, input_token_index[\" \"]] = 1  # Accounting for space characters\n",
        "\n",
        "# Decode input sequence\n",
        "for row, (in_seq, out_seq) in enumerate(zip(input_characters, output_characters)):\n",
        "    for col, char in enumerate(out_seq):\n",
        "        decoder_input_seq[row, col, output_token_index[char]] = 1\n",
        "        if col > 0:\n",
        "            decoder_output_seq[row, col - 1, output_token_index[char]] = 1\n",
        "    decoder_input_seq[row, col + 1:, output_token_index[\" \"]] = 1  # Accounting for space characters\n",
        "    decoder_output_seq[row, col:, output_token_index[\" \"]] = 1  # Accounting for space characters"
      ],
      "metadata": {
        "id": "vFlKTN2Dm5VG"
      },
      "execution_count": 21,
      "outputs": []
    },
    {
      "cell_type": "markdown",
      "source": [
        "#### Encoding Input and Output Sequences using Keras\n",
        "(I do not use this method in the final product but it is nice to know that it exists. This is merely for reference purposes and not part of my submission.)"
      ],
      "metadata": {
        "id": "ppPxHWrcmx42"
      }
    },
    {
      "cell_type": "code",
      "source": [
        "# Source:\n",
        "# https://towardsdatascience.com/how-to-implement-seq2seq-lstm-model-in-keras-shortcutnlp-6f355f3e5639\n",
        "\n",
        "# from keras.preprocessing.text import Tokenizer\n",
        "# from keras.preprocessing.sequence import pad_sequences\n",
        "# import numpy as np\n",
        "\n",
        "\n",
        "# SEQ_SIZE = 300\n",
        "# MAX_SEQ_LENGTH = 30\n",
        "\n",
        "# def output_seq(sequence):\n",
        "#   sos = \"<BOS> \"\n",
        "#   eos = \" <EOS>\"\n",
        "#   updated_output_seq = [sos + seq + eos for seq in sequence]\n",
        "#   return updated_output_seqx\n",
        "\n",
        "# def seq2token(sequence, seq_size):\n",
        "#   tokenizer = Tokenizer(num_words=seq_size)\n",
        "#   tokenizer.fit_on_texts(sequence)\n",
        "#   dictionary = tokenizer.word_index\n",
        "\n",
        "#   seq_to_id = dict()\n",
        "#   id_to_seq = dict()\n",
        "\n",
        "#   for word, index in dictionary.items():\n",
        "#     if index < seq_size:\n",
        "#       seq_to_id[word] = index\n",
        "#       id_to_seq[index] = word\n",
        "\n",
        "#     if index > seq_size - 1:\n",
        "#       continue\n",
        "    \n",
        "#   return seq_to_id, id_to_seq\n",
        "\n",
        "# # seq_to_id, id_to_seq = seq2token(input_char+output_char, SEQ_SIZE)\n",
        "\n",
        "# # def char2seq(enc_char, dec_char, seq_size):\n",
        "# #   tokenizer = Tokenizer(num_words=seq_size)\n",
        "# #   enc_seq = tokenizer.texts_to_sequences(enc_char)\n",
        "# #   dec_seq = tokenizer.texts_to_sequences(dec_char)\n",
        "# #   return enc_seq, dec_seq\n",
        "\n",
        "# # enc_seq, dec_seq = char2seq()\n",
        "# def padding(enc_seq, dec_seq, max_seq_length):\n",
        "#   enc_input_data = pad_sequences(enc_seq, max_len=max_seq_length, dtype='int32', padding='post', truncating='post')\n",
        "#   dec_input_data = pad_sequences(dec_seq, max_len=max_seq_length, dtype='int32', padding='post', truncating='post')\n",
        "#   return enc_input_data, dec_input_data\n",
        "\n",
        "\n",
        "# # enc_input_data, dec_input_data = padding(enc_seq, dec_seq, MAX_SEQ_LENGTH)\n",
        "# def seq2id(seq_input, seq_output, embeddings_index):\n",
        "#   coefs = np.asarray(seq_output, dtype='float32')\n",
        "#   embeddings_index[seq_input] = coefs\n",
        "\n",
        "#   return embeddings_index\n",
        "\n",
        "# def embedding_matrix_creation(embedding_dimmension):\n",
        "#   embedding_matrix = np.zeros((len(word_index) + 1, embedding_dimmension))\n",
        "#   for seq, index in word_index.items():\n",
        "#     embeddings_vector = embeddings_index.get(seq)\n",
        "#     if embeddings_vector is not None:\n",
        "#       embedding_matrix[index] = embeddings_vector\n",
        "#   return embedding_matrix\n",
        "\n",
        "# def embedding_layer_creation(SEQ_SIZE, DIMENSION, MAX_SEQ_LENGTH, embedding_matrix):\n",
        "#   embedding_layer = Embedding(input_dim = SEQ_SIZE, output_dim = DIMENSION, input_length = MAX_SEQ_LENGTH, weights = [embedding_matrix], trainable = False)\n",
        "#   return embedding_layer\n"
      ],
      "metadata": {
        "id": "IQKAsU_nhDTB"
      },
      "execution_count": 22,
      "outputs": []
    },
    {
      "cell_type": "markdown",
      "source": [
        "Method to build seq2seq model, using the above methods. (I do not use this method in the final product. This is merely for reference purposes and not part of my submission.)"
      ],
      "metadata": {
        "id": "0Bg_ZYoIn_kv"
      }
    },
    {
      "cell_type": "code",
      "source": [
        "# Source:\n",
        "# https://towardsdatascience.com/how-to-implement-seq2seq-lstm-model-in-keras-shortcutnlp-6f355f3e5639\n",
        "\n",
        "# def seq2seq(hidden_dim=256):\n",
        "#   encoder_inputs = Input(shape=(MAX_SEQ_LENGTH,), dtype='int32',)\n",
        "#   encoder_embedding = embed_layer(encoder_inputs)\n",
        "#   encoder_LSTM = LSTM(hidden_dim, return_state=True)\n",
        "#   _, state_h, state_c = encoder_LSTM(encoder_embedding)\n",
        "\n",
        "\n",
        "#   decoder_inputs = Input(shape=(MAX_SEQ_LENGTH,), dtype='int32',)\n",
        "#   decoder_embedding = embed_layer(decoder_inputs)\n",
        "#   decoder_LSTM = LSTM(hidden_dim, return_state=True, return_sequences=True)\n",
        "#   decoder_outputs, _, _ = decoder_LSTM(decoder_embedding, initial_state=[state_h, state_c])\n",
        "\n",
        "#   outputs = Dense(SEQ_SIZE, activation='softmax')\n",
        "#   model = Model([encoder_inputs, decoder_inputs], outputs)\n",
        "\n",
        "#   return model"
      ],
      "metadata": {
        "id": "z5Jsug4qY2Mu"
      },
      "execution_count": 23,
      "outputs": []
    },
    {
      "cell_type": "markdown",
      "source": [
        "## Model"
      ],
      "metadata": {
        "id": "DlQVOgjlEQ-u"
      }
    },
    {
      "cell_type": "code",
      "source": [
        "# Sources:\n",
        "# https://pytorch.org/tutorials/intermediate/seq2seq_translation_tutorial.html\n",
        "# http://www.adeveloperdiary.com/data-science/deep-learning/nlp/machine-translation-recurrent-neural-network-pytorch/\n",
        "# https://blog.keras.io/a-ten-minute-introduction-to-sequence-to-sequence-learning-in-keras.html\n",
        "# https://towardsdatascience.com/how-to-implement-seq2seq-lstm-model-in-keras-shortcutnlp-6f355f3e5639\n",
        "# https://machinelearningmastery.com/define-encoder-decoder-sequence-sequence-model-neural-machine-translation-keras/\n",
        "from keras.models import Model\n",
        "from keras.layers import Input, LSTM, Dense\n",
        "from keras.utils.vis_utils import plot_model\n",
        "\n",
        "batch_size = 64\n",
        "epochs = 50\n",
        "hidden_dim = 256\n",
        "\n",
        "# Layer Dimensions\n",
        "encoder_input_layer = Input(shape=(None, num_encoder_tokens))\n",
        "decoder_input_layer = Input(shape=(None, num_decoder_tokens))\n",
        "\n",
        "# Encoder LSTM\n",
        "encoder_LSTM = LSTM(hidden_dim, return_state=True)\n",
        "_, state_h, state_c = encoder_LSTM(encoder_input_layer)\n",
        "encoder_states = [state_h, state_c]\n",
        "\n",
        "# Decoder LSTM\n",
        "decoder_LSTM = LSTM(hidden_dim, return_sequences=True, return_state=True)\n",
        "decoder_outputs, _, _ = decoder_LSTM(decoder_input_layer, initial_state=encoder_states)\n",
        "# Dense layer to predict output sequence\n",
        "decoder_dense = Dense(num_decoder_tokens, activation=\"softmax\")  # softmax activation function\n",
        "decoder_outputs = decoder_dense(decoder_outputs)\n",
        "\n",
        "# Model \n",
        "model = Model([encoder_input_layer, decoder_input_layer], decoder_outputs)\n",
        "model.summary()\n",
        "plot_model(model, to_file='model.png', show_shapes=True)  # Plot model\n"
      ],
      "metadata": {
        "id": "HtsNFlIA9_IW",
        "colab": {
          "base_uri": "https://localhost:8080/",
          "height": 821
        },
        "outputId": "f824a8bd-1445-4c38-de4d-d7aefcf7d093"
      },
      "execution_count": 24,
      "outputs": [
        {
          "output_type": "stream",
          "name": "stdout",
          "text": [
            "Model: \"model_3\"\n",
            "__________________________________________________________________________________________________\n",
            " Layer (type)                   Output Shape         Param #     Connected to                     \n",
            "==================================================================================================\n",
            " input_5 (InputLayer)           [(None, None, 239)]  0           []                               \n",
            "                                                                                                  \n",
            " input_6 (InputLayer)           [(None, None, 139)]  0           []                               \n",
            "                                                                                                  \n",
            " lstm_2 (LSTM)                  [(None, 256),        507904      ['input_5[0][0]']                \n",
            "                                 (None, 256),                                                     \n",
            "                                 (None, 256)]                                                     \n",
            "                                                                                                  \n",
            " lstm_3 (LSTM)                  [(None, None, 256),  405504      ['input_6[0][0]',                \n",
            "                                 (None, 256),                     'lstm_2[0][1]',                 \n",
            "                                 (None, 256)]                     'lstm_2[0][2]']                 \n",
            "                                                                                                  \n",
            " dense_1 (Dense)                (None, None, 139)    35723       ['lstm_3[0][0]']                 \n",
            "                                                                                                  \n",
            "==================================================================================================\n",
            "Total params: 949,131\n",
            "Trainable params: 949,131\n",
            "Non-trainable params: 0\n",
            "__________________________________________________________________________________________________\n"
          ]
        },
        {
          "output_type": "execute_result",
          "data": {
            "image/png": "[encoded data removed]",
            "text/plain": [
              "<IPython.core.display.Image object>"
            ]
          },
          "metadata": {},
          "execution_count": 24
        }
      ]
    },
    {
      "cell_type": "markdown",
      "source": [
        "### Training the Model"
      ],
      "metadata": {
        "id": "0CbgD_OfEBY5"
      }
    },
    {
      "cell_type": "code",
      "source": [
        "# Train model\n",
        "# Sources:\n",
        "# https://colab.research.google.com/drive/1DBaHgsoPJCoj8SXAqNqQtKqAtwrUc4qS?usp=sharing#scrollTo=AMB2lJaMG8uh\n",
        "# https://machinelearningmastery.com/display-deep-learning-model-training-history-in-keras/\n",
        "import matplotlib.pyplot as plt\n",
        "\n",
        "# Compile the model\n",
        "model.compile(optimizer=\"adam\", loss=\"categorical_crossentropy\", metrics=[\"accuracy\"])\n",
        "# Fit the model\n",
        "history = model.fit([encoder_input_seq, decoder_input_seq], decoder_output_seq, batch_size=batch_size, epochs=epochs, validation_split=0.2,)\n",
        "\n",
        "# Accuracy Plot\n",
        "plt.plot(history.history['accuracy'], 'r-')\n",
        "plt.plot(history.history['val_accuracy'], color='blue')\n",
        "plt.title('Model Accuracy')\n",
        "plt.xlabel('Number of epochs')\n",
        "plt.ylabel('Accuracy')\n",
        "plt.legend(['train', 'test'], loc='upper left')\n",
        "plt.show()\n",
        "plt.savefig('accuracy-graph.png')\n",
        "\n",
        "# Loss Plot\n",
        "plt.plot(history.history['loss'], 'r-')\n",
        "plt.plot(history.history['val_loss'], color='blue')\n",
        "plt.title('Model Loss')\n",
        "plt.xlabel('Number of epochs')\n",
        "plt.ylabel('Loss')\n",
        "plt.legend(['train', 'test'], loc='upper left')\n",
        "plt.show()\n",
        "plt.savefig('loss-graph.png')\n"
      ],
      "metadata": {
        "id": "gHGdE7hQ9_Yp",
        "colab": {
          "base_uri": "https://localhost:8080/",
          "height": 1000
        },
        "outputId": "91848719-7ec5-4e1a-d1c1-e178739315ab"
      },
      "execution_count": 25,
      "outputs": [
        {
          "output_type": "stream",
          "name": "stdout",
          "text": [
            "Epoch 1/50\n",
            "704/704 [==============================] - 36s 45ms/step - loss: 0.9414 - accuracy: 0.7356 - val_loss: 0.8169 - val_accuracy: 0.7579\n",
            "Epoch 2/50\n",
            "704/704 [==============================] - 30s 43ms/step - loss: 0.7886 - accuracy: 0.7651 - val_loss: 0.7757 - val_accuracy: 0.7701\n",
            "Epoch 3/50\n",
            "704/704 [==============================] - 30s 43ms/step - loss: 0.7616 - accuracy: 0.7732 - val_loss: 0.7584 - val_accuracy: 0.7747\n",
            "Epoch 4/50\n",
            "704/704 [==============================] - 30s 43ms/step - loss: 0.7611 - accuracy: 0.7750 - val_loss: 0.7468 - val_accuracy: 0.7789\n",
            "Epoch 5/50\n",
            "704/704 [==============================] - 30s 43ms/step - loss: 0.7305 - accuracy: 0.7821 - val_loss: 0.7282 - val_accuracy: 0.7842\n",
            "Epoch 6/50\n",
            "704/704 [==============================] - 30s 43ms/step - loss: 0.7142 - accuracy: 0.7868 - val_loss: 0.7136 - val_accuracy: 0.7887\n",
            "Epoch 7/50\n",
            "704/704 [==============================] - 30s 43ms/step - loss: 0.6989 - accuracy: 0.7911 - val_loss: 0.6990 - val_accuracy: 0.7925\n",
            "Epoch 8/50\n",
            "704/704 [==============================] - 30s 43ms/step - loss: 0.6852 - accuracy: 0.7948 - val_loss: 0.6874 - val_accuracy: 0.7963\n",
            "Epoch 9/50\n",
            "704/704 [==============================] - 30s 43ms/step - loss: 0.6726 - accuracy: 0.7986 - val_loss: 0.6764 - val_accuracy: 0.7993\n",
            "Epoch 10/50\n",
            "704/704 [==============================] - 30s 43ms/step - loss: 0.6606 - accuracy: 0.8023 - val_loss: 0.6686 - val_accuracy: 0.8015\n",
            "Epoch 11/50\n",
            "704/704 [==============================] - 30s 43ms/step - loss: 0.6495 - accuracy: 0.8057 - val_loss: 0.6591 - val_accuracy: 0.8049\n",
            "Epoch 12/50\n",
            "704/704 [==============================] - 30s 43ms/step - loss: 0.6386 - accuracy: 0.8090 - val_loss: 0.6496 - val_accuracy: 0.8077\n",
            "Epoch 13/50\n",
            "704/704 [==============================] - 30s 43ms/step - loss: 0.6280 - accuracy: 0.8119 - val_loss: 0.6426 - val_accuracy: 0.8097\n",
            "Epoch 14/50\n",
            "704/704 [==============================] - 31s 43ms/step - loss: 0.6230 - accuracy: 0.8141 - val_loss: 0.6367 - val_accuracy: 0.8111\n",
            "Epoch 15/50\n",
            "704/704 [==============================] - 30s 43ms/step - loss: 0.6100 - accuracy: 0.8177 - val_loss: 0.6308 - val_accuracy: 0.8128\n",
            "Epoch 16/50\n",
            "704/704 [==============================] - 31s 43ms/step - loss: 0.6016 - accuracy: 0.8204 - val_loss: 0.6252 - val_accuracy: 0.8147\n",
            "Epoch 17/50\n",
            "704/704 [==============================] - 30s 43ms/step - loss: 0.5938 - accuracy: 0.8228 - val_loss: 0.6213 - val_accuracy: 0.8166\n",
            "Epoch 18/50\n",
            "704/704 [==============================] - 31s 44ms/step - loss: 0.5864 - accuracy: 0.8249 - val_loss: 0.6165 - val_accuracy: 0.8175\n",
            "Epoch 19/50\n",
            "704/704 [==============================] - 30s 43ms/step - loss: 0.5792 - accuracy: 0.8272 - val_loss: 0.6118 - val_accuracy: 0.8193\n",
            "Epoch 20/50\n",
            "704/704 [==============================] - 30s 43ms/step - loss: 0.5728 - accuracy: 0.8290 - val_loss: 0.6078 - val_accuracy: 0.8206\n",
            "Epoch 21/50\n",
            "704/704 [==============================] - 30s 43ms/step - loss: 0.5663 - accuracy: 0.8309 - val_loss: 0.6060 - val_accuracy: 0.8215\n",
            "Epoch 22/50\n",
            "704/704 [==============================] - 30s 43ms/step - loss: 0.5605 - accuracy: 0.8327 - val_loss: 0.6017 - val_accuracy: 0.8229\n",
            "Epoch 23/50\n",
            "704/704 [==============================] - 33s 46ms/step - loss: 0.5548 - accuracy: 0.8344 - val_loss: 0.5977 - val_accuracy: 0.8241\n",
            "Epoch 24/50\n",
            "704/704 [==============================] - 30s 43ms/step - loss: 0.5495 - accuracy: 0.8361 - val_loss: 0.5963 - val_accuracy: 0.8248\n",
            "Epoch 25/50\n",
            "704/704 [==============================] - 30s 43ms/step - loss: 0.5472 - accuracy: 0.8368 - val_loss: 0.5945 - val_accuracy: 0.8255\n",
            "Epoch 26/50\n",
            "704/704 [==============================] - 30s 43ms/step - loss: 0.5393 - accuracy: 0.8389 - val_loss: 0.5931 - val_accuracy: 0.8260\n",
            "Epoch 27/50\n",
            "704/704 [==============================] - 30s 43ms/step - loss: 0.5348 - accuracy: 0.8401 - val_loss: 0.5910 - val_accuracy: 0.8265\n",
            "Epoch 28/50\n",
            "704/704 [==============================] - 30s 43ms/step - loss: 0.5304 - accuracy: 0.8414 - val_loss: 0.5903 - val_accuracy: 0.8269\n",
            "Epoch 29/50\n",
            "704/704 [==============================] - 30s 43ms/step - loss: 0.5263 - accuracy: 0.8427 - val_loss: 0.5894 - val_accuracy: 0.8277\n",
            "Epoch 30/50\n",
            "704/704 [==============================] - 30s 43ms/step - loss: 0.5220 - accuracy: 0.8439 - val_loss: 0.5881 - val_accuracy: 0.8282\n",
            "Epoch 31/50\n",
            "704/704 [==============================] - 30s 43ms/step - loss: 0.5182 - accuracy: 0.8448 - val_loss: 0.5858 - val_accuracy: 0.8288\n",
            "Epoch 32/50\n",
            "704/704 [==============================] - 30s 43ms/step - loss: 0.5142 - accuracy: 0.8461 - val_loss: 0.5888 - val_accuracy: 0.8277\n",
            "Epoch 33/50\n",
            "704/704 [==============================] - 30s 43ms/step - loss: 0.5105 - accuracy: 0.8471 - val_loss: 0.5865 - val_accuracy: 0.8288\n",
            "Epoch 34/50\n",
            "704/704 [==============================] - 30s 43ms/step - loss: 0.5096 - accuracy: 0.8474 - val_loss: 0.5869 - val_accuracy: 0.8286\n",
            "Epoch 35/50\n",
            "704/704 [==============================] - 30s 43ms/step - loss: 0.5030 - accuracy: 0.8489 - val_loss: 0.5841 - val_accuracy: 0.8299\n",
            "Epoch 36/50\n",
            "704/704 [==============================] - 30s 43ms/step - loss: 0.4996 - accuracy: 0.8501 - val_loss: 0.5850 - val_accuracy: 0.8296\n",
            "Epoch 37/50\n",
            "704/704 [==============================] - 30s 43ms/step - loss: 0.4962 - accuracy: 0.8510 - val_loss: 0.5856 - val_accuracy: 0.8303\n",
            "Epoch 38/50\n",
            "704/704 [==============================] - 30s 43ms/step - loss: 0.4929 - accuracy: 0.8519 - val_loss: 0.5866 - val_accuracy: 0.8296\n",
            "Epoch 39/50\n",
            "704/704 [==============================] - 31s 43ms/step - loss: 0.4897 - accuracy: 0.8526 - val_loss: 0.5857 - val_accuracy: 0.8302\n",
            "Epoch 40/50\n",
            "704/704 [==============================] - 30s 43ms/step - loss: 0.4868 - accuracy: 0.8536 - val_loss: 0.5878 - val_accuracy: 0.8300\n",
            "Epoch 41/50\n",
            "704/704 [==============================] - 31s 43ms/step - loss: 0.4835 - accuracy: 0.8545 - val_loss: 0.5860 - val_accuracy: 0.8305\n",
            "Epoch 42/50\n",
            "704/704 [==============================] - 31s 43ms/step - loss: 0.4805 - accuracy: 0.8552 - val_loss: 0.5868 - val_accuracy: 0.8311\n",
            "Epoch 43/50\n",
            "704/704 [==============================] - 31s 43ms/step - loss: 0.4774 - accuracy: 0.8560 - val_loss: 0.5871 - val_accuracy: 0.8310\n",
            "Epoch 44/50\n",
            "704/704 [==============================] - 30s 43ms/step - loss: 0.4745 - accuracy: 0.8570 - val_loss: 0.5908 - val_accuracy: 0.8295\n",
            "Epoch 45/50\n",
            "704/704 [==============================] - 30s 43ms/step - loss: 0.4717 - accuracy: 0.8576 - val_loss: 0.5891 - val_accuracy: 0.8307\n",
            "Epoch 46/50\n",
            "704/704 [==============================] - 30s 43ms/step - loss: 0.4708 - accuracy: 0.8582 - val_loss: 0.5911 - val_accuracy: 0.8304\n",
            "Epoch 47/50\n",
            "704/704 [==============================] - 30s 43ms/step - loss: 0.4656 - accuracy: 0.8593 - val_loss: 0.5947 - val_accuracy: 0.8292\n",
            "Epoch 48/50\n",
            "704/704 [==============================] - 30s 43ms/step - loss: 0.4629 - accuracy: 0.8602 - val_loss: 0.5941 - val_accuracy: 0.8303\n",
            "Epoch 49/50\n",
            "704/704 [==============================] - 30s 43ms/step - loss: 0.4603 - accuracy: 0.8608 - val_loss: 0.5948 - val_accuracy: 0.8306\n",
            "Epoch 50/50\n",
            "704/704 [==============================] - 30s 43ms/step - loss: 0.4576 - accuracy: 0.8616 - val_loss: 0.5971 - val_accuracy: 0.8297\n"
          ]
        },
        {
          "output_type": "display_data",
          "data": {
            "image/png": "[encoded data removed]",
            "text/plain": [
              "<Figure size 432x288 with 1 Axes>"
            ]
          },
          "metadata": {
            "needs_background": "light"
          }
        },
        {
          "output_type": "display_data",
          "data": {
            "image/png": "[encoded data removed]",
            "text/plain": [
              "<Figure size 432x288 with 1 Axes>"
            ]
          },
          "metadata": {
            "needs_background": "light"
          }
        },
        {
          "output_type": "display_data",
          "data": {
            "text/plain": [
              "<Figure size 432x288 with 0 Axes>"
            ]
          },
          "metadata": {}
        }
      ]
    },
    {
      "cell_type": "markdown",
      "source": [
        "### Encoder and Decoder Models"
      ],
      "metadata": {
        "id": "b07CyMV6Efh4"
      }
    },
    {
      "cell_type": "code",
      "source": [
        "# Sources:\n",
        "# https://blog.keras.io/a-ten-minute-introduction-to-sequence-to-sequence-learning-in-keras.html\n",
        "# https://machinelearningmastery.com/define-encoder-decoder-sequence-sequence-model-neural-machine-translation-keras/\n",
        "\n",
        "# Encoder Model\n",
        "encoder_model = Model(encoder_input_layer, encoder_states)\n",
        "\n",
        "# Decoder Model\n",
        "decoder_state_input_h = keras.Input(shape=(hidden_dim,))\n",
        "decoder_state_input_c = keras.Input(shape=(hidden_dim,))\n",
        "decoder_states_inputs = [decoder_state_input_h, decoder_state_input_c]\n",
        "decoder_outputs, state_h_dec, state_c_dec = decoder_LSTM(decoder_input_layer, initial_state=decoder_states_inputs)\n",
        "decoder_states = [state_h_dec, state_c_dec]\n",
        "decoder_outputs = decoder_dense(decoder_outputs)\n",
        "decoder_model = Model([decoder_input_layer] + decoder_states_inputs, [decoder_outputs] + decoder_states)\n",
        "\n",
        "# Plot models\n",
        "plot_model(encoder_model, to_file='encoder_model.png', show_shapes=True)\n",
        "plot_model(decoder_model, to_file='decoder_model.png', show_shapes=True)"
      ],
      "metadata": {
        "id": "pPPQPY0C9_nC",
        "colab": {
          "base_uri": "https://localhost:8080/",
          "height": 312
        },
        "outputId": "bce0ba1b-20f2-4544-957f-19f0de0b58e4"
      },
      "execution_count": 26,
      "outputs": [
        {
          "output_type": "execute_result",
          "data": {
            "image/png": "[encoded data removed]",
            "text/plain": [
              "<IPython.core.display.Image object>"
            ]
          },
          "metadata": {},
          "execution_count": 26
        }
      ]
    },
    {
      "cell_type": "markdown",
      "source": [
        "### Decode Sequence Method"
      ],
      "metadata": {
        "id": "Tv-HWtFX7S4U"
      }
    },
    {
      "cell_type": "code",
      "source": [
        "# Sources:\n",
        "# https://blog.keras.io/a-ten-minute-introduction-to-sequence-to-sequence-learning-in-keras.html\n",
        "\n",
        "def output_seq(input_seq):\n",
        "    \"\"\" This method is used to predict the output of an input sequence. \"\"\"\n",
        "    # Encode input sequence\n",
        "    encoder_pred = encoder_model.predict(input_seq)\n",
        "\n",
        "    # Output sequence\n",
        "    out_seq = np.zeros((1, 1, num_decoder_tokens))\n",
        "    out_seq[0, 0, output_token_index[\"\\t\"]] = 1\n",
        "    decoded_sequence = \"\"\n",
        "\n",
        "    # Once a sequence has been decoded, go backwards to get the sequence\n",
        "    reverse_seq = dict((i, char) for char, i in output_token_index.items())\n",
        "\n",
        "    while True:  # Continue until stopping condition has been met\n",
        "        # Get output tokens\n",
        "        output_tokens, state_h, state_c = decoder_model.predict([out_seq] + encoder_pred)\n",
        "\n",
        "        # Get token and then get the corresponding character\n",
        "        tok_id = np.argmax(output_tokens[0, -1, :])\n",
        "        char_id = reverse_seq[tok_id]\n",
        "        decoded_sequence += char_id\n",
        "\n",
        "        out_seq = np.zeros((1, 1, num_decoder_tokens))\n",
        "        out_seq[0, 0, tok_id] = 1\n",
        "\n",
        "        encoder_pred = [state_h, state_c]\n",
        "\n",
        "        # If reached the start of sequence or gone past the length of the seq., then stop\n",
        "        if char_id == \"\\n\" or len(decoded_sequence) > max_decoder_seq:  # Stopping condition\n",
        "            break\n",
        "\n",
        "    return decoded_sequence"
      ],
      "metadata": {
        "id": "4xLxE41X7PY9"
      },
      "execution_count": 27,
      "outputs": []
    },
    {
      "cell_type": "markdown",
      "source": [
        "## Generate Sequence"
      ],
      "metadata": {
        "id": "JX6ApoNUk4eL"
      }
    },
    {
      "cell_type": "code",
      "source": [
        "# Sources:\n",
        "# https://blog.keras.io/a-ten-minute-introduction-to-sequence-to-sequence-learning-in-keras.html\n",
        "# https://stackoverflow.com/questions/8924173/how-do-i-print-bold-text-in-python\n",
        "\n",
        "for seq_id in range(0, 50):\n",
        "    # Getting input sequence\n",
        "    input_seq = encoder_input_seq[seq_id : seq_id + 1]\n",
        "    # Getting output sequence\n",
        "    decoded_sentence = output_seq(input_seq)\n",
        "\n",
        "    print(\"Input sequence:\", input_characters[seq_id])\n",
        "    print(\"Decoded sequence:\", decoded_sentence[:-1])\n",
        "    print(\"Complete sequence:\", input_characters[seq_id] + '\\033[1m' + decoded_sentence + '\\033[0;0m')"
      ],
      "metadata": {
        "id": "3NklFch9E3oa",
        "colab": {
          "base_uri": "https://localhost:8080/"
        },
        "outputId": "8decfe1a-c5e3-4541-e0fb-489654ab5fe9"
      },
      "execution_count": 28,
      "outputs": [
        {
          "output_type": "stream",
          "name": "stdout",
          "text": [
            "Input sequence: the word anarchism is etymolog\n",
            "Decoded sequence: y and the \n",
            "Complete sequence: the word anarchism is etymolog\u001b[1my and the \n",
            "\u001b[0;0m\n",
            "Input sequence: rom the greek languagegreek wi\n",
            "Decoded sequence: th the sou\n",
            "Complete sequence: rom the greek languagegreek wi\u001b[1mth the sou\n",
            "\u001b[0;0m\n",
            "Input sequence: pampampampampampampampampampam\n",
            "Decoded sequence: pampmdasht\n",
            "Complete sequence: pampampampampampampampampampam\u001b[1mpampmdasht\n",
            "\u001b[0;0m\n",
            "Input sequence:  quotwithout archons ruler chi\n",
            "Decoded sequence: lescontine\n",
            "Complete sequence:  quotwithout archons ruler chi\u001b[1mlescontine\n",
            "\u001b[0;0m\n",
            "Input sequence: t anarchism as a political phi\n",
            "Decoded sequence: losophy a \n",
            "Complete sequence: t anarchism as a political phi\u001b[1mlosophy a \n",
            "\u001b[0;0m\n",
            "Input sequence:  the belief that rulers are un\n",
            "Decoded sequence: ited state\n",
            "Complete sequence:  the belief that rulers are un\u001b[1mited state\n",
            "\u001b[0;0m\n",
            "Input sequence: and should be abolished althou\n",
            "Decoded sequence: gh the sea\n",
            "Complete sequence: and should be abolished althou\u001b[1mgh the sea\n",
            "\u001b[0;0m\n",
            "Input sequence: re differing interpretations o\n",
            "Decoded sequence: f the cont\n",
            "Complete sequence: re differing interpretations o\u001b[1mf the cont\n",
            "\u001b[0;0m\n",
            "Input sequence: s means anarchism also refers \n",
            "Decoded sequence: the contro\n",
            "Complete sequence: s means anarchism also refers \u001b[1mthe contro\n",
            "\u001b[0;0m\n",
            "Input sequence:  social movements that advocat\n",
            "Decoded sequence: e the stat\n",
            "Complete sequence:  social movements that advocat\u001b[1me the stat\n",
            "\u001b[0;0m\n",
            "Input sequence: ination of authoritarian insti\n",
            "Decoded sequence: tution of \n",
            "Complete sequence: ination of authoritarian insti\u001b[1mtution of \n",
            "\u001b[0;0m\n",
            "Input sequence: rticularly the stateltrefgthtt\n",
            "Decoded sequence: poppologic\n",
            "Complete sequence: rticularly the stateltrefgthtt\u001b[1mpoppologic\n",
            "\u001b[0;0m\n",
            "Input sequence: teorgwikidefinitionsofanarchis\n",
            "Decoded sequence: t can be s\n",
            "Complete sequence: teorgwikidefinitionsofanarchis\u001b[1mt can be s\n",
            "\u001b[0;0m\n",
            "Input sequence: ons of anarchism on wikiquote \n",
            "Decoded sequence: and contro\n",
            "Complete sequence: ons of anarchism on wikiquote \u001b[1mand contro\n",
            "\u001b[0;0m\n",
            "Input sequence: trefgt the word quotanarchyquo\n",
            "Decoded sequence: t the cont\n",
            "Complete sequence: trefgt the word quotanarchyquo\u001b[1mt the cont\n",
            "\u001b[0;0m\n",
            "Input sequence: anarchists use it does not imp\n",
            "Decoded sequence: ly for exa\n",
            "Complete sequence: anarchists use it does not imp\u001b[1mly for exa\n",
            "\u001b[0;0m\n",
            "Input sequence: ihilism or anomie but rather a\n",
            "Decoded sequence: lexander t\n",
            "Complete sequence: ihilism or anomie but rather a\u001b[1mlexander t\n",
            "\u001b[0;0m\n",
            "Input sequence: s antiauthoritarian society in\n",
            "Decoded sequence:  the state\n",
            "Complete sequence: s antiauthoritarian society in\u001b[1m the state\n",
            "\u001b[0;0m\n",
            "Input sequence: what are regarded as authorita\n",
            "Decoded sequence:  and the s\n",
            "Complete sequence: what are regarded as authorita\u001b[1m and the s\n",
            "\u001b[0;0m\n",
            "Input sequence: ical structures and coercive e\n",
            "Decoded sequence: lection of\n",
            "Complete sequence: ical structures and coercive e\u001b[1mlection of\n",
            "\u001b[0;0m\n",
            "Input sequence: stitutions anarchists advocate\n",
            "Decoded sequence:  a serious\n",
            "Complete sequence: stitutions anarchists advocate\u001b[1m a serious\n",
            "\u001b[0;0m\n",
            "Input sequence: lations based upon voluntary a\n",
            "Decoded sequence: nd the con\n",
            "Complete sequence: lations based upon voluntary a\u001b[1mnd the con\n",
            "\u001b[0;0m\n",
            "Input sequence:  of autonomous individuals mut\n",
            "Decoded sequence: er and the\n",
            "Complete sequence:  of autonomous individuals mut\u001b[1mer and the\n",
            "\u001b[0;0m\n",
            "Input sequence: d selfgovernance while anarchi\n",
            "Decoded sequence: sm is a se\n",
            "Complete sequence: d selfgovernance while anarchi\u001b[1msm is a se\n",
            "\u001b[0;0m\n",
            "Input sequence:  easily defined by what it is \n",
            "Decoded sequence: a film a s\n",
            "Complete sequence:  easily defined by what it is \u001b[1ma film a s\n",
            "\u001b[0;0m\n",
            "Input sequence: archists also offer positive v\n",
            "Decoded sequence: alues and \n",
            "Complete sequence: archists also offer positive v\u001b[1malues and \n",
            "\u001b[0;0m\n",
            "Input sequence: what they believe to be a trul\n",
            "Decoded sequence: y  alang t\n",
            "Complete sequence: what they believe to be a trul\u001b[1my  alang t\n",
            "\u001b[0;0m\n",
            "Input sequence: iety however ideas about how a\n",
            "Decoded sequence: ttention o\n",
            "Complete sequence: iety however ideas about how a\u001b[1mttention o\n",
            "\u001b[0;0m\n",
            "Input sequence: t society might work vary cons\n",
            "Decoded sequence: idered the\n",
            "Complete sequence: t society might work vary cons\u001b[1midered the\n",
            "\u001b[0;0m\n",
            "Input sequence: specially with respect to econ\n",
            "Decoded sequence: omic of th\n",
            "Complete sequence: specially with respect to econ\u001b[1momic of th\n",
            "\u001b[0;0m\n",
            "Input sequence: e is also disagreement about h\n",
            "Decoded sequence: e was a se\n",
            "Complete sequence: e is also disagreement about h\u001b[1me was a se\n",
            "\u001b[0;0m\n",
            "Input sequence: society might be brought about\n",
            "Decoded sequence:   the stat\n",
            "Complete sequence: society might be brought about\u001b[1m  the stat\n",
            "\u001b[0;0m\n",
            "Input sequence: s including the the anarchy or\n",
            "Decoded sequence: der to the\n",
            "Complete sequence: s including the the anarchy or\u001b[1mder to the\n",
            "\u001b[0;0m\n",
            "Input sequence:  and murray rothbardrothbard f\n",
            "Decoded sequence: or example\n",
            "Complete sequence:  and murray rothbardrothbard f\u001b[1mor example\n",
            "\u001b[0;0m\n",
            "Input sequence: ist attitudes in taoism from h\n",
            "Decoded sequence: is long to\n",
            "Complete sequence: ist attitudes in taoism from h\u001b[1mis long to\n",
            "\u001b[0;0m\n",
            "Input sequence: chinaancient chinaltrefgtthe a\n",
            "Decoded sequence: ll of the \n",
            "Complete sequence: chinaancient chinaltrefgtthe a\u001b[1mll of the \n",
            "\u001b[0;0m\n",
            "Input sequence: anization toronto taoism and a\n",
            "Decoded sequence: n and the \n",
            "Complete sequence: anization toronto taoism and a\u001b[1mn and the \n",
            "\u001b[0;0m\n",
            "Input sequence: il   httpwwwtoxicpopcouklibrar\n",
            "Decoded sequence: ian can be\n",
            "Complete sequence: il   httpwwwtoxicpopcouklibrar\u001b[1mian can be\n",
            "\u001b[0;0m\n",
            "Input sequence:  toxicpop mirror httpwwwgeocit\n",
            "Decoded sequence: ional the \n",
            "Complete sequence:  toxicpop mirror httpwwwgeocit\u001b[1mional the \n",
            "\u001b[0;0m\n",
            "Input sequence: taoanhtml vanity site mirrorlt\n",
            "Decoded sequence: heigned th\n",
            "Complete sequence: taoanhtml vanity site mirrorlt\u001b[1mheigned th\n",
            "\u001b[0;0m\n",
            "Input sequence: gtmurray rothbardrothbard murr\n",
            "Decoded sequence: ay        \n",
            "Complete sequence: gtmurray rothbardrothbard murr\u001b[1may        \n",
            "\u001b[0;0m\n",
            "Input sequence: pwwwlewrockwellcomrothbardanci\n",
            "Decoded sequence: sts and th\n",
            "Complete sequence: pwwwlewrockwellcomrothbardanci\u001b[1msts and th\n",
            "\u001b[0;0m\n",
            "Input sequence: html the ancient chinese liber\n",
            "Decoded sequence: tinestant \n",
            "Complete sequence: html the ancient chinese liber\u001b[1mtinestant \n",
            "\u001b[0;0m\n",
            "Input sequence: ditionquot an extract from quo\n",
            "Decoded sequence: tmr and al\n",
            "Complete sequence: ditionquot an extract from quo\u001b[1mtmr and al\n",
            "\u001b[0;0m\n",
            "Input sequence: sesorgjournalsjlspdf concepts \n",
            "Decoded sequence: the contin\n",
            "Complete sequence: sesorgjournalsjlspdf concepts \u001b[1mthe contin\n",
            "\u001b[0;0m\n",
            "Input sequence: e of intellectuals in social c\n",
            "Decoded sequence: ontinued t\n",
            "Complete sequence: e of intellectuals in social c\u001b[1montinued t\n",
            "\u001b[0;0m\n",
            "Input sequence: rd laissez fairequot the journ\n",
            "Decoded sequence: ed to the \n",
            "Complete sequence: rd laissez fairequot the journ\u001b[1med to the \n",
            "\u001b[0;0m\n",
            "Input sequence: rtarian studies   fall ltrefgt\n",
            "Decoded sequence:  produced \n",
            "Complete sequence: rtarian studies   fall ltrefgt\u001b[1m produced \n",
            "\u001b[0;0m\n",
            "Input sequence: potkinkropotkin found similar \n",
            "Decoded sequence: in the sta\n",
            "Complete sequence: potkinkropotkin found similar \u001b[1min the sta\n",
            "\u001b[0;0m\n",
            "Input sequence: toicismstoic zeno of citium ac\n",
            "Decoded sequence: cording to\n",
            "Complete sequence: toicismstoic zeno of citium ac\u001b[1mcording to\n",
            "\u001b[0;0m\n"
          ]
        }
      ]
    },
    {
      "cell_type": "markdown",
      "source": [
        "Consulted sources have been included in their respective cells. \\\\\n",
        "Additional Sources used to understand Seq2Seq models: \\\\\n",
        "Stanford CS224N: NLP with Deep Learning | Winter 2019 | Lecture 8 – Translation, Seq2Seq, Attention  \n",
        "Availiable: https://www.youtube.com/watch?v=XXtpJxZBa2c"
      ],
      "metadata": {
        "id": "BWRwOb_gv730"
      }
    }
  ]
}